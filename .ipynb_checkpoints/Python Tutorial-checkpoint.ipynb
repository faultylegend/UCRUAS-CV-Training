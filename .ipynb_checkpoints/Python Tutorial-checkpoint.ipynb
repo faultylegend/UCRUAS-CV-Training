{
 "cells": [
  {
   "cell_type": "markdown",
   "metadata": {},
   "source": [
    "# Python Basics Tutorial"
   ]
  },
  {
   "cell_type": "markdown",
   "metadata": {},
   "source": [
    "#  Pre-Information\n",
    "\n",
    "Unlike C++, which is a compiled language, Python is an interpreted language. This means that, instead of compiling the entire code before running, the code is \"interpreted\" as it runs. There are a few key differences in the two:\n",
    "1. With a compiled language, the programmer has more control over the CPU than in an interpreted language. <br/><br/>\n",
    "2. While no longer as impactful as years before, with a compiled language, a programmer would put all the compile time before running the program, allowing for the program itself to run more quickly. On the other hand, an interpreted language would be interpreting a program's code *while* the program is running, leading to some inefficiencies. As time goes on, this time gap becomes smaller and smaller, but it is important to know the differences nonetheless."
   ]
  },
  {
   "cell_type": "markdown",
   "metadata": {},
   "source": [
    "# Data Types\n",
    "Variables in Python are usually pretty easy. For the most part, their type will be assigned akin to c++ 'auto.'\n",
    "Try it out for yourself. Below we have x = 5. To check what x returns, we just have x by itself in the second line. To run a cell, select it and press Shift+Enter."
   ]
  },
  {
   "cell_type": "code",
   "execution_count": null,
   "metadata": {},
   "outputs": [],
   "source": [
    "x = 5\n",
    "x"
   ]
  },
  {
   "cell_type": "markdown",
   "metadata": {},
   "source": [
    "Jupyter Notebook is a little different from normal text editors or IDE's in that code blocks can be run individually, instead of the whole script. Right now, what is called the Kernel remembers for us that x = 5."
   ]
  },
  {
   "cell_type": "code",
   "execution_count": null,
   "metadata": {},
   "outputs": [],
   "source": [
    "x"
   ]
  },
  {
   "cell_type": "markdown",
   "metadata": {},
   "source": [
    "To clear variables and other information, you can go to the toolbar at the top and select Kernel -> Restart and Clear Output. If you try to return X again, Jupyter Notebook will throw \"NameError: name 'x' is not defined\""
   ]
  },
  {
   "cell_type": "code",
   "execution_count": null,
   "metadata": {},
   "outputs": [],
   "source": [
    "x"
   ]
  },
  {
   "cell_type": "markdown",
   "metadata": {},
   "source": [
    "In Python, it is much easier to deal with things like integer division, as it is automatic. Below, we see that x is converted to a float. We check this by using type()"
   ]
  },
  {
   "cell_type": "code",
   "execution_count": null,
   "metadata": {},
   "outputs": [],
   "source": [
    "x = 13\n",
    "x = x / 2\n",
    "type(x)"
   ]
  },
  {
   "cell_type": "markdown",
   "metadata": {},
   "source": [
    "What if a programmer wanted to use integer division? Luckily, the developers of Python had that in mind. By using \"//\" instead of \"/\", Python knows to use integer division. "
   ]
  },
  {
   "cell_type": "code",
   "execution_count": null,
   "metadata": {},
   "outputs": [],
   "source": [
    "x = 13\n",
    "x = x // 2\n",
    "type(x)"
   ]
  },
  {
   "cell_type": "markdown",
   "metadata": {},
   "source": [
    "The other basic operations are basically the same as in C++. Here we have the print() function, which we'll be covering in the next cell.  "
   ]
  },
  {
   "cell_type": "code",
   "execution_count": null,
   "metadata": {},
   "outputs": [],
   "source": [
    "x = 5 + 10\n",
    "print(x)\n",
    "y = 3 - 5\n",
    "print(y)\n",
    "z = 5 * 3\n",
    "print(z)\n"
   ]
  },
  {
   "cell_type": "markdown",
   "metadata": {},
   "source": [
    "Exponents are also native to Python."
   ]
  },
  {
   "cell_type": "code",
   "execution_count": null,
   "metadata": {},
   "outputs": [],
   "source": [
    "x = 8 ** 2\n",
    "print(x)"
   ]
  },
  {
   "cell_type": "markdown",
   "metadata": {},
   "source": [
    "print() is very similar to C++ cout, ouptutting a string of characters to the console. By default, print() ends with a newline."
   ]
  },
  {
   "cell_type": "code",
   "execution_count": null,
   "metadata": {},
   "outputs": [],
   "source": [
    "print(\"Hello world!\")\n",
    "x = 12345\n",
    "print(x)"
   ]
  },
  {
   "cell_type": "markdown",
   "metadata": {},
   "source": [
    "print() contains parameters called sep and end. They determine what character, string, or int separates the strings within and after the print function respectively. In Python, if there is no specification on which argument corresponds to which parameter in the function, the arguments will be taken in order. Parameters can also be specified such as below by using \"=\"."
   ]
  },
  {
   "cell_type": "code",
   "execution_count": null,
   "metadata": {},
   "outputs": [],
   "source": [
    "print(\"Hello\", \"world\", sep=' ', end='. ')\n",
    "print(\"Python is fun and easy\")"
   ]
  },
  {
   "cell_type": "markdown",
   "metadata": {},
   "source": [
    "As you may have noticed, Python allows for the use of both single and double quotes for strings and characters. This can be useful if you need just single quotes in a string or just double quotes. In addition, it is very easy to combine strings and characters, as we simply use the \"+\" operator. This is called concatenation."
   ]
  },
  {
   "cell_type": "code",
   "execution_count": null,
   "metadata": {},
   "outputs": [],
   "source": [
    "x = \"Python is \"\n",
    "y = \"very fun\"\n",
    "print(\"Python is \" + \"very fun\")\n",
    "print(x + y)\n",
    "print(\"It's interesting to learn how Python makes things easier for us.\")\n",
    "print('When I first looked at it, I thought, \"This is just like English!\"')"
   ]
  },
  {
   "cell_type": "markdown",
   "metadata": {},
   "source": [
    "Another convenient feature of Python is block strings. We create one by using triple quotations, '''. This allows us to make multi-line strings and is mostly used for block comments or hard-coding output. Also note that escape characters work pretty much the same as in C++."
   ]
  },
  {
   "cell_type": "code",
   "execution_count": null,
   "metadata": {},
   "outputs": [],
   "source": [
    "y = '''Dear Mom,\n",
    "    I hope you\\'re doing well|. Can\\'t wait to see you again. '''\n",
    "print(y)"
   ]
  },
  {
   "cell_type": "markdown",
   "metadata": {},
   "source": [
    "Python also has a type of string called a raw string. As the name suggests, it takes in exactly what characters the programmer types in, without regard for things like quotes. This is especially useful in situations that require very specific strings, like hard-coding file names. We do this by putting a letter 'r' before the quote."
   ]
  },
  {
   "cell_type": "code",
   "execution_count": null,
   "metadata": {},
   "outputs": [],
   "source": [
    "filename = r'C:\\Users\\Python\\Desktop\\main.py'\n",
    "print(filename)"
   ]
  },
  {
   "cell_type": "markdown",
   "metadata": {},
   "source": [
    "print() only takes in strings. If we only have a single argument, Python automatically takes a string literal version of the variable to print. If there are more than one type of variable, we have to typecast it ourselves."
   ]
  },
  {
   "cell_type": "code",
   "execution_count": null,
   "metadata": {},
   "outputs": [],
   "source": [
    "x = 3 + 5\n",
    "print(\"3 + 5 is \" + x)"
   ]
  },
  {
   "cell_type": "code",
   "execution_count": null,
   "metadata": {},
   "outputs": [],
   "source": [
    "x = 3 + 5\n",
    "print(\"3 + 5 is \" + str(x))"
   ]
  },
  {
   "cell_type": "markdown",
   "metadata": {},
   "source": [
    "Try typecasting y in line 2 below so that print(x) does not return TypeError."
   ]
  },
  {
   "cell_type": "code",
   "execution_count": null,
   "metadata": {},
   "outputs": [],
   "source": [
    "y = \"145\"\n",
    "x = 5 + y\n",
    "print(x)"
   ]
  },
  {
   "cell_type": "markdown",
   "metadata": {},
   "source": [
    "Boolean values are pretty similar between Python and C++. The only difference is that true and false are capitalized here. <br/> \n",
    "Additionally, Python has a useful keyword called 'in', which returns true if something is in a collection."
   ]
  },
  {
   "cell_type": "code",
   "execution_count": null,
   "metadata": {},
   "outputs": [],
   "source": [
    "x = True\n",
    "y = False\n",
    "z = [1, 2, 3, 4, 5]\n",
    "print(x, y, 3 in z)"
   ]
  },
  {
   "cell_type": "markdown",
   "metadata": {},
   "source": [
    "On a final note on data types, here are some operations that were not covered.\n",
    "- == Equals\n",
    "- != Not equal to\n",
    "- <  Less than \n",
    "- \\>  Greater than \n",
    "- <= Less than or Equal to\n",
    "- \\>= Greater than or Equal to\n",
    "- %  Mod: 5 % 3 = 2, 16 % 5 = 1"
   ]
  },
  {
   "cell_type": "markdown",
   "metadata": {},
   "source": [
    "# Data Structures"
   ]
  },
  {
   "cell_type": "markdown",
   "metadata": {},
   "source": [
    "## Lists\n",
    "Now that we've covered some overlapping data types between C++ and Python, here is a new data type: lists. I like to think of them like souped-up C++ vectors. We initialize one by using square brackets, \"[]\". We index by 0, just like many other (non-MATLAB) languages. We can also index from the back, by using negative numbers, starting from -1. Lists can also hold different data types within them."
   ]
  },
  {
   "cell_type": "code",
   "execution_count": null,
   "metadata": {},
   "outputs": [],
   "source": [
    "x = [1, 2, 3, 4, 5]\n",
    "print(x[1])\n",
    "print(x[-1])"
   ]
  },
  {
   "cell_type": "code",
   "execution_count": null,
   "metadata": {},
   "outputs": [],
   "source": [
    "[1, 2, \"3\"]"
   ]
  },
  {
   "cell_type": "markdown",
   "metadata": {},
   "source": [
    "Python indexing is especially useful for data science and image manipulation (which works wonders for computer vision!). Using a colon, we can select multiple elements of an array at once. The number before the colon in inclusive and the number after is exclusive. For example, if we use x[0:2], Python selects x[0] and x[1], since the first number is inclusive, but not x[2], since the 2 is exclusive.  "
   ]
  },
  {
   "cell_type": "code",
   "execution_count": null,
   "metadata": {},
   "outputs": [],
   "source": [
    "print(x[0:2])"
   ]
  },
  {
   "cell_type": "markdown",
   "metadata": {},
   "source": [
    "To print or return the entirety of the list, we simply use a colon with no numbers. This is useful with 3D arrays, which we'll be going over later.<br/><br/>\n",
    "Additionally, we can get the length of things like lists by using len()."
   ]
  },
  {
   "cell_type": "code",
   "execution_count": null,
   "metadata": {},
   "outputs": [],
   "source": [
    "print(x[:])\n",
    "print(len(x))"
   ]
  },
  {
   "cell_type": "markdown",
   "metadata": {},
   "source": [
    "By using a second colon, we can also manipulate the step size, which is defaulted to 1. "
   ]
  },
  {
   "cell_type": "code",
   "execution_count": null,
   "metadata": {},
   "outputs": [],
   "source": [
    "print(x[::2])\n",
    "print(x[::3])"
   ]
  },
  {
   "cell_type": "markdown",
   "metadata": {},
   "source": [
    "For practice, try printing each of these through the cell below: <br/>\n",
    "1. All the even numbers\n",
    "2. All the odd numbers\n",
    "3. Numbers 1, 2, 3, 4, 5\n",
    "4. Numbers 0, 3, 6, 9"
   ]
  },
  {
   "cell_type": "code",
   "execution_count": null,
   "metadata": {},
   "outputs": [],
   "source": [
    "x = [0, 1, 2, 3, 4, 5, 6, 7, 8, 9]"
   ]
  },
  {
   "cell_type": "markdown",
   "metadata": {},
   "source": [
    "We can also use '+' and '*' on lists. Doing so will concatenate two lists if we use the '+' operator, for example. <br/>\n",
    "To multiply each item in the list, do as shown below."
   ]
  },
  {
   "cell_type": "code",
   "execution_count": null,
   "metadata": {},
   "outputs": [],
   "source": [
    "y = [-1, -2, -3, -4, -5]\n",
    "print(x * 2)\n",
    "print(x + [10, 11, 12, 13, 14, 15])\n",
    "print(x + y)\n",
    "z = [2 * i for i in y]\n",
    "print(z)"
   ]
  },
  {
   "cell_type": "markdown",
   "metadata": {},
   "source": [
    "Lists have many useful and not-so-useful functions. Here are a few of the more useful ones:<br/>\n",
    "append()<br/>\n",
    "pop()<br/>\n",
    "insert()<br/>\n",
    "clear()<br/>\n",
    "reverse()<br/>\n",
    "\n",
    "Most objects use the dot operator to access their functions. For example, we can have x.pop()<br/>\n",
    "In JupyterLabs, if you want to know what a function does, you can press Shift+Tab when your cursor is between the 2 parentheses and you will see the possible parameters for the function as well as some basic information about the function. This also works on variables, which will give you information about the data type in question.<br/><br/>\n",
    "\n",
    "Try doing some of these things on your own, printing between each step to check your work: \n",
    "1. Append 'date' to the list x\n",
    "2. Append a random string of your choice, and then pop it\n",
    "3. Use insert() to add 'cantaloupe' between 'banana' and 'date'\n",
    "4. Reverse the list\n",
    "5. Using the '=' operator, set x[0] to 'fruit'\n",
    "5. Clear the list and return it."
   ]
  },
  {
   "cell_type": "code",
   "execution_count": null,
   "metadata": {},
   "outputs": [],
   "source": [
    "x = ['apple', 'banana']"
   ]
  },
  {
   "cell_type": "markdown",
   "metadata": {},
   "source": [
    "## Tuples\n",
    "Tuples are very similar to lists, with one main difference: they cannot be easily changed. Besides some other differences that will be useful later on, tuples are otherwise the same as lists. They are initialized with parentheses. These are useful for information that you may not want to change, like a stagnant target. To create a tuple with one entry, put one element in parentheses followed by a comma."
   ]
  },
  {
   "cell_type": "code",
   "execution_count": null,
   "metadata": {},
   "outputs": [],
   "source": [
    "pos = (100, 30)\n",
    "value = (100,)\n",
    "print('x: ' + str(pos[0]) + '\\ny: ' + str(pos[1]))\n",
    "print(pos)\n",
    "print(len(pos))\n",
    "print(type(value))"
   ]
  },
  {
   "cell_type": "markdown",
   "metadata": {},
   "source": [
    "## Sets\n",
    "Python sets are collections of unordered, unindexed items. They are written with curly brackets. We cannot change the items in the set, but we can add single or multiple items to a set, using add() and update() respectively."
   ]
  },
  {
   "cell_type": "code",
   "execution_count": null,
   "metadata": {},
   "outputs": [],
   "source": [
    "x = {'apple', 'banana', 'orange'}\n",
    "# We'll be going over for loops in a few cells. Here's a sneak peek. \n",
    "for item in x:\n",
    "    print(item)\n",
    "    \n",
    "print('')\n",
    "x.add('watermelon')\n",
    "for item in x:\n",
    "    print(item)\n",
    "\n",
    "print('')\n",
    "x.update(['tangerine', 'grape', 'fig'])\n",
    "for item in x:\n",
    "    print(item)"
   ]
  },
  {
   "cell_type": "markdown",
   "metadata": {},
   "source": [
    "We can also remove items in a set. <br/>\n",
    "    <li>Use remove() to remove 1 item. If it does not already exist, then remove() will raise an error.<br/>\n",
    "    <li>Use discard() to remove 1 item, but it will NOT raise an error.<br/>\n",
    "    <li>Clear() works the same as with lists, as every item is removed.<br/>\n",
    "    <li>del will delete the set itself."
   ]
  },
  {
   "cell_type": "code",
   "execution_count": null,
   "metadata": {},
   "outputs": [],
   "source": [
    "x.remove('apple')\n",
    "x.discard('banana')\n",
    "x.clear()"
   ]
  },
  {
   "cell_type": "markdown",
   "metadata": {},
   "source": [
    "union() returns a set with all the items from the included sets, without changing the sets themselves. <br/>\n",
    "update() inserts y into x."
   ]
  },
  {
   "cell_type": "code",
   "execution_count": null,
   "metadata": {},
   "outputs": [],
   "source": [
    "x = {'1', '2', '3', '4'}\n",
    "y = {'5', '6', '7', '8'}\n",
    "x.union(y)"
   ]
  },
  {
   "cell_type": "code",
   "execution_count": null,
   "metadata": {},
   "outputs": [],
   "source": [
    "x.update(y)\n",
    "x"
   ]
  },
  {
   "cell_type": "markdown",
   "metadata": {},
   "source": [
    "## Dictionaries\n",
    "Dictionaries are similar to sets in that they are unordered and unindexed. However, the main differenced is that they are something called associative arrays. Instead of indexing like with a list, dictionaries use keys that correspond to information. These can be very useful in storing data about objects. Just like sets, they are initialized using curly brackets, but \"keys\" and \"items\" are separated by colons. We can access an item in a dictionary similarly to indexing a list, but putting the key instead of the number.\n",
    "\n",
    "### Note:\n",
    "Here we are using strings for both the key and the item. However, we can put any hashable (CS014) value as a key, and anything as the item."
   ]
  },
  {
   "cell_type": "code",
   "execution_count": null,
   "metadata": {},
   "outputs": [],
   "source": [
    "uc_mascots = {'ucla':'bruin', 'ucr':'highlander', 'uci':'anteater', 5:[1,2,3,4,5]}\n",
    "print(uc_mascots['ucr'])\n",
    "print(uc_mascots[5])"
   ]
  },
  {
   "cell_type": "markdown",
   "metadata": {},
   "source": [
    "An entry can be added just by simply assigning new information. <br/>\n",
    "An entry can also be deleted, by using the 'del' keyword."
   ]
  },
  {
   "cell_type": "code",
   "execution_count": null,
   "metadata": {},
   "outputs": [],
   "source": [
    "uc_mascots['ucsc'] = 'banana slug'\n",
    "uc_mascots"
   ]
  },
  {
   "cell_type": "code",
   "execution_count": null,
   "metadata": {},
   "outputs": [],
   "source": [
    "del uc_mascots['ucla']\n",
    "uc_mascots"
   ]
  },
  {
   "cell_type": "markdown",
   "metadata": {},
   "source": [
    "# Control Flow\n",
    "## If-then statements\n",
    "Python uses whitespace to parse blocks. Where curly brackets rule supreme in C++, Python's code blocks are dictated by tabs. This can make code simpler to read, but also locks programmers into styling that they may not be aiming for. <br/> <br/>\n",
    "The first control flow statement we will go over is if-else. The conditional statement is not indented and is terminated by a colon, while the 'then' statement is indented. In addition, instead of writing 'else if,' Python simply uses 'elif.'"
   ]
  },
  {
   "cell_type": "code",
   "execution_count": null,
   "metadata": {},
   "outputs": [],
   "source": [
    "if 3 > 5:\n",
    "    print('3 is greater than 5')\n",
    "elif 5 == 3:\n",
    "    print('3 is equal to 5')\n",
    "else:\n",
    "    print('3 is less than 5')"
   ]
  },
  {
   "cell_type": "markdown",
   "metadata": {},
   "source": [
    "'and' and 'or' are deceptively simple in Python, as a programmer can choose to literally write the words in the line of code.<br/> <br/> \n",
    "If needed, parentheses can be added for accuracy."
   ]
  },
  {
   "cell_type": "code",
   "execution_count": null,
   "metadata": {},
   "outputs": [],
   "source": [
    "if 3 < 5 and 'a' < 'j':\n",
    "    print(\"correct!\")\n",
    "    \n",
    "if (3 < 5 and 'a' < 'j') or 5 > 1000:\n",
    "    print(\"at least 1 correct!\")"
   ]
  },
  {
   "cell_type": "markdown",
   "metadata": {},
   "source": [
    "## For loops\n",
    "For loops are very simple to type in Python. The way that it works is very high-level. Instead of iterating a number, we can iterate the objects in a collection directly."
   ]
  },
  {
   "cell_type": "code",
   "execution_count": null,
   "metadata": {},
   "outputs": [],
   "source": [
    "final_team_roster = ('Mary', 'Sue', 'John', 'Wiz', 'Arnold')\n",
    "# we can name 'item' whatever we want. Usually it is anything that makes sense, so here we could put 'name' instead.\n",
    "for item in final_team_roster:\n",
    "    print(item)\n",
    "    \n",
    "for i in final_team_roster: print(i)"
   ]
  },
  {
   "cell_type": "markdown",
   "metadata": {},
   "source": [
    "What if we want to iterate by numbers like in C++? Fortunately, we can do that using the range() function. The bounds of the range() function are similar to indexing multiple items in lists: the first argument is inclusive, and the second argument is exclusive."
   ]
  },
  {
   "cell_type": "code",
   "execution_count": null,
   "metadata": {},
   "outputs": [],
   "source": [
    "for i in range(0, len(final_team_roster)):\n",
    "    print(final_team_roster[i])"
   ]
  },
  {
   "cell_type": "code",
   "execution_count": null,
   "metadata": {},
   "outputs": [],
   "source": [
    "for i in final_team_roster: print(i)"
   ]
  },
  {
   "cell_type": "markdown",
   "metadata": {},
   "source": [
    "## While loops\n",
    "While loops are implemented similarly to for loops, with a condition and a colon."
   ]
  },
  {
   "cell_type": "code",
   "execution_count": null,
   "metadata": {},
   "outputs": [],
   "source": [
    "x = 5\n",
    "while x > 0:\n",
    "    print(x)\n",
    "    x -= 1"
   ]
  },
  {
   "cell_type": "markdown",
   "metadata": {},
   "source": [
    "Because while loops check the condition before executing the code, a while loop can be executed as few as 0 times. What if we want to run the code at least once? Luckily, we can use a 'break' command inside of the while loop. We can also use a 'break' command to break the while loop in certain scenarios. This is also applicable to for loops."
   ]
  },
  {
   "cell_type": "code",
   "execution_count": null,
   "metadata": {},
   "outputs": [],
   "source": [
    "x = 0\n",
    "while True:\n",
    "    print(x)\n",
    "    x -= 1\n",
    "    if x <= 0:\n",
    "        break"
   ]
  },
  {
   "cell_type": "markdown",
   "metadata": {},
   "source": [
    "## Functions\n",
    "Functions are an important part of any modern programming lanugage, and Python is no exception. As is a common theme in Python, functions in this language are very easy to define. We use 'def' to write the header of a function, and use a colon and tab-ed code to define it."
   ]
  },
  {
   "cell_type": "code",
   "execution_count": null,
   "metadata": {},
   "outputs": [],
   "source": [
    "def hello_world():\n",
    "    print('hello world!')\n",
    "    \n",
    "hello_world()"
   ]
  },
  {
   "cell_type": "markdown",
   "metadata": {},
   "source": [
    "Function parameters are automatically typed unless otherwise specified."
   ]
  },
  {
   "cell_type": "code",
   "execution_count": null,
   "metadata": {},
   "outputs": [],
   "source": [
    "def print_type(obj):\n",
    "    print(\"Type: \" + str(type(obj)))\n",
    "    \n",
    "print_type(40)\n",
    "print_type('hi')\n",
    "print_type(40.1)"
   ]
  },
  {
   "cell_type": "markdown",
   "metadata": {},
   "source": [
    "Functions can also return values. This is used in most cases. "
   ]
  },
  {
   "cell_type": "code",
   "execution_count": null,
   "metadata": {},
   "outputs": [],
   "source": [
    "def double_array(argument):\n",
    "    return argument * 2\n",
    "\n",
    "x = [1, 2, 3, 4, 5]\n",
    "y = double_array(x)\n",
    "y"
   ]
  },
  {
   "cell_type": "markdown",
   "metadata": {},
   "source": [
    "Here's another example of a function, which returns a list (list and array are often used interchangibly in Python). Also note the cheeky inline for *and* if statement. This kind of inline code is more useful if it is conceptually simple and takes up too much space normally. Don't be afraid to iomplement it normally until you are confident "
   ]
  },
  {
   "cell_type": "code",
   "execution_count": null,
   "metadata": {},
   "outputs": [],
   "source": [
    "def words_long(array, length):\n",
    "    return [word for word in array if len(word) > length]\n",
    "\n",
    "words_long(['banana', 'car', 'apple', 'durian'], 3)"
   ]
  }
 ],
 "metadata": {
  "kernelspec": {
   "display_name": "Python 3",
   "language": "python",
   "name": "python3"
  },
  "language_info": {
   "codemirror_mode": {
    "name": "ipython",
    "version": 3
   },
   "file_extension": ".py",
   "mimetype": "text/x-python",
   "name": "python",
   "nbconvert_exporter": "python",
   "pygments_lexer": "ipython3",
   "version": "3.7.6"
  }
 },
 "nbformat": 4,
 "nbformat_minor": 4
}
