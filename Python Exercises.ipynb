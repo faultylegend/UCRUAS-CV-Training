{
 "cells": [
  {
   "cell_type": "markdown",
   "metadata": {},
   "source": [
    "# Practice Problems\n",
    "Now that you've learned most of the basics of Python, let's practice a bit."
   ]
  },
  {
   "cell_type": "markdown",
   "metadata": {},
   "source": [
    "Let's start simple. Set a variable 'val' to 5. </br>\n",
    "Add 3 to val and return.\n",
    "<details>\n",
    "    <summary> Solution </summary>\n",
    "<pre>val = 5\n",
    "val += 3\n",
    "val\n",
    "</pre>\n",
    "</details>"
   ]
  },
  {
   "cell_type": "code",
   "execution_count": null,
   "metadata": {},
   "outputs": [],
   "source": [
    "# code goes here"
   ]
  },
  {
   "cell_type": "markdown",
   "metadata": {},
   "source": [
    "Return the type of val.\n",
    "<details>\n",
    "    <summary> Solution </summary>\n",
    "    <pre>type(val)</pre>"
   ]
  },
  {
   "cell_type": "code",
   "execution_count": null,
   "metadata": {},
   "outputs": [],
   "source": [
    "# code goes here"
   ]
  },
  {
   "cell_type": "markdown",
   "metadata": {},
   "source": [
    "Concatenate these two strings and print them.\n",
    "<details>\n",
    "    <summary> Solution </summary>\n",
    "    <pre>x = \"Python\"\n",
    "y = \"is easy\"\n",
    "print(x + y)</pre>\n",
    "</details>"
   ]
  },
  {
   "cell_type": "code",
   "execution_count": 4,
   "metadata": {},
   "outputs": [],
   "source": [
    "x = \"Python\"\n",
    "y = \"is easy\""
   ]
  },
  {
   "cell_type": "markdown",
   "metadata": {},
   "source": [
    "Print out a block quote of your choice. "
   ]
  },
  {
   "cell_type": "code",
   "execution_count": null,
   "metadata": {},
   "outputs": [],
   "source": [
    "# code goes here"
   ]
  },
  {
   "cell_type": "markdown",
   "metadata": {},
   "source": [
    "There is something wrong with the code below. Fix it so that print() executes properly.\n",
    "<details>\n",
    "    <summary> Solution </summary>\n",
    "    <pre>if a < b:\n",
    "    print(str(a) + \"is less than \" + str(b))\n",
    "else: \n",
    "    print(str(a) + \"is not less than\" + str(b))<pre/>"
   ]
  },
  {
   "cell_type": "code",
   "execution_count": null,
   "metadata": {},
   "outputs": [],
   "source": [
    "a = 50\n",
    "b = 75\n",
    "if a < b:\n",
    "    print(a + \"is less than \" + b)\n",
    "else: \n",
    "    print(a + \"is not less than\" + b)"
   ]
  },
  {
   "cell_type": "markdown",
   "metadata": {},
   "source": [
    "Print each element of the list arr, separated by a space.\n",
    "<details>\n",
    "    <summary> Solution </summary>\n",
    "    <pre>for item in arr:\n",
    "    print(item, end=' ')</pre>\n",
    "</details>"
   ]
  },
  {
   "cell_type": "code",
   "execution_count": null,
   "metadata": {},
   "outputs": [],
   "source": [
    "arr = [1, 2, 3, 4, 5]"
   ]
  },
  {
   "cell_type": "markdown",
   "metadata": {},
   "source": [
    "Using a for loop, append every odd number from 0 to 16 to the empy list arr. Then return it.\n",
    "<details>\n",
    "    <summary> Solution </summary>\n",
    "    <pre>for i in range(0, 17):\n",
    "    if i % 2 != 0:\n",
    "        arr.append(i)\n",
    "arr</pre>\n",
    "<details>"
   ]
  },
  {
   "cell_type": "code",
   "execution_count": null,
   "metadata": {},
   "outputs": [],
   "source": [
    "arr = []"
   ]
  },
  {
   "cell_type": "markdown",
   "metadata": {},
   "source": [
    "Print the 4th element in this tuple.\n",
    "<details>\n",
    "    <summary> Solution </summary>\n",
    "    <pre>print(tup[3])</pre>\n",
    "</details>"
   ]
  },
  {
   "cell_type": "code",
   "execution_count": null,
   "metadata": {},
   "outputs": [],
   "source": [
    "tup = (1, 2, 3, 4, 5)\n",
    "print(tup[3])"
   ]
  },
  {
   "cell_type": "markdown",
   "metadata": {},
   "source": [
    "Use [this link](https://www.w3schools.com/python/python_ref_dictionary.asp) to look at some more dictionary methods. </br>\n",
    "Add any other  a picnic. \n",
    "Return a list of the categories for the picnic supplies."
   ]
  },
  {
   "cell_type": "code",
   "execution_count": 10,
   "metadata": {},
   "outputs": [
    {
     "data": {
      "text/plain": [
       "dict_keys(['fruit', 'entree', 'etc', 'attendees'])"
      ]
     },
     "execution_count": 10,
     "metadata": {},
     "output_type": "execute_result"
    }
   ],
   "source": [
    "picnic_supplies = {'fruit': ['banana', 'apple', 'strawberry'], \n",
    "                   'entree':['burger', 'salad', 'taco'], \n",
    "                   'etc':['blanket, basket]']}\n",
    "picnic_supplies['attendees'] = ['Paea', 'Kris', 'Ali']\n",
    "picnic_supplies.keys()"
   ]
  },
  {
   "cell_type": "markdown",
   "metadata": {},
   "source": [
    "Use a while loop to print numbers from 1 to 100 (inclusive) separated by a comma and a space. \\', \\'\n",
    "It is ok to end with a comma."
   ]
  },
  {
   "cell_type": "code",
   "execution_count": 2,
   "metadata": {},
   "outputs": [
    {
     "name": "stdout",
     "output_type": "stream",
     "text": [
      "1, 2, 3, 4, 5, 6, 7, 8, 9, 10, 11, 12, 13, 14, 15, 16, 17, 18, 19, 20, 21, 22, 23, 24, 25, 26, 27, 28, 29, 30, 31, 32, 33, 34, 35, 36, 37, 38, 39, 40, 41, 42, 43, 44, 45, 46, 47, 48, 49, 50, 51, 52, 53, 54, 55, 56, 57, 58, 59, 60, 61, 62, 63, 64, 65, 66, 67, 68, 69, 70, 71, 72, 73, 74, 75, 76, 77, 78, 79, 80, 81, 82, 83, 84, 85, 86, 87, 88, 89, 90, 91, 92, 93, 94, 95, 96, 97, 98, 99, 100, "
     ]
    }
   ],
   "source": [
    "count = 1\n",
    "while count <= 100:\n",
    "    print(count, end=', ')\n",
    "    count += 1"
   ]
  },
  {
   "cell_type": "markdown",
   "metadata": {},
   "source": [
    "Implement the function FindGreaterThan, that returns a list of numbers from a given list that are greater than a given value.\n",
    "<details> \n",
    "    <summary> Solution </summary>\n",
    "    <pre>def FindGreaterThan(arr, val):\n",
    "    return [item for item in arr if item > val]</pre>\n",
    "</details>"
   ]
  },
  {
   "cell_type": "code",
   "execution_count": 3,
   "metadata": {},
   "outputs": [
    {
     "data": {
      "text/plain": [
       "[3, 4, 5]"
      ]
     },
     "execution_count": 3,
     "metadata": {},
     "output_type": "execute_result"
    }
   ],
   "source": [
    "def FindGreaterThan(arr, val):\n",
    "FindGreaterThan([1, 2, 3, 4, 5], 2)"
   ]
  }
 ],
 "metadata": {
  "kernelspec": {
   "display_name": "Python 3",
   "language": "python",
   "name": "python3"
  },
  "language_info": {
   "codemirror_mode": {
    "name": "ipython",
    "version": 3
   },
   "file_extension": ".py",
   "mimetype": "text/x-python",
   "name": "python",
   "nbconvert_exporter": "python",
   "pygments_lexer": "ipython3",
   "version": "3.7.6"
  }
 },
 "nbformat": 4,
 "nbformat_minor": 4
}
